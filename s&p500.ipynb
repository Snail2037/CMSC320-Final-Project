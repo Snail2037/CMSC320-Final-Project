# Should you invest in the S&P 500 right now?
